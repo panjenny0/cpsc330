{
 "cells": [
  {
   "cell_type": "markdown",
   "metadata": {},
   "source": [
    "# CPSC 330 - Applied Machine Learning \n",
    "\n",
    "## Homework 6: Putting it all together \n",
    "### Associated lectures: All material till lecture 13 \n",
    "\n",
    "**Due date: Monday, November 15, 2021 at 11:59pm**"
   ]
  },
  {
   "cell_type": "markdown",
   "metadata": {},
   "source": [
    "## Table of contents\n",
    "\n",
    "- [Submission instructions](#si)\n",
    "- [Understanding the problem](#1)\n",
    "- [Data splitting](#2)\n",
    "- [EDA](#3)\n",
    "- (Optional) [Feature engineering](#4)\n",
    "- [Preprocessing and transformations](#5)\n",
    "- [Baseline model](#6)\n",
    "- [Linear models](#7)\n",
    "- [Different classifiers](#8)\n",
    "- (Optional) [Feature selection](#9)\n",
    "- [Hyperparameter optimization](#10)\n",
    "- [Interpretation and feature importances](#11)\n",
    "- [Results on the test set](#12)\n",
    "- (Optional) [Explaining predictions](#13)\n",
    "- [Summary of the results](#14)"
   ]
  },
  {
   "cell_type": "markdown",
   "metadata": {},
   "source": [
    "## Imports "
   ]
  },
  {
   "cell_type": "code",
   "execution_count": 28,
   "metadata": {},
   "outputs": [],
   "source": [
    "import os\n",
    "\n",
    "%matplotlib inline\n",
    "import sys\n",
    "\n",
    "import matplotlib.pyplot as plt\n",
    "import numpy as np\n",
    "import pandas as pd\n",
    "import seaborn as sns\n",
    "import xgboost as xgb\n",
    "from sklearn.compose import ColumnTransformer, make_column_transformer\n",
    "from sklearn.dummy import DummyClassifier\n",
    "from sklearn.ensemble import RandomForestClassifier\n",
    "from sklearn.impute import SimpleImputer\n",
    "from sklearn.linear_model import LogisticRegression, Ridge, RidgeCV\n",
    "from sklearn.metrics import (\n",
    "    classification_report,\n",
    "    confusion_matrix,\n",
    "    f1_score,\n",
    "    make_scorer,\n",
    "    plot_confusion_matrix,\n",
    ")\n",
    "from sklearn.model_selection import (\n",
    "    GridSearchCV,\n",
    "    RandomizedSearchCV,\n",
    "    cross_val_score,\n",
    "    cross_validate,\n",
    "    train_test_split,\n",
    ")\n",
    "from sklearn.pipeline import Pipeline, make_pipeline\n",
    "from sklearn.preprocessing import OneHotEncoder, OrdinalEncoder, StandardScaler\n",
    "from sklearn.svm import SVC"
   ]
  },
  {
   "cell_type": "markdown",
   "metadata": {},
   "source": [
    "<br><br>"
   ]
  },
  {
   "cell_type": "markdown",
   "metadata": {},
   "source": [
    "## Instructions \n",
    "<hr>\n",
    "rubric={points:2}\n",
    "\n",
    "Follow the [homework submission instructions](https://github.com/UBC-CS/cpsc330/blob/master/docs/homework_instructions.md). \n",
    "\n",
    "**You may work on this homework in a group and submit your assignment as a group.** Below are some instructions on working as a group.  \n",
    "- The maximum group size is 3. \n",
    "- Use group work as an opportunity to collaborate and learn new things from each other. \n",
    "- Be respectful to each other and make sure you understand all the concepts in the assignment well. \n",
    "- It's your responsibility to make sure that the assignment is submitted by one of the group members before the deadline. \n",
    "- You can find the instructions on how to do group submission on Gradescope [here](https://help.gradescope.com/article/m5qz2xsnjy-student-add-group-members)."
   ]
  },
  {
   "cell_type": "markdown",
   "metadata": {},
   "source": [
    "<br><br>"
   ]
  },
  {
   "cell_type": "markdown",
   "metadata": {},
   "source": [
    "## Introduction <a name=\"in\"></a>\n",
    "<hr>\n",
    "\n",
    "At this point we are at the end of supervised machine learning part of the course. So in this homework, you will be working on an open-ended mini-project, where you will put all the different things you have learned so far together to solve an interesting problem.\n",
    "\n",
    "A few notes and tips when you work on this mini-project: \n",
    "\n",
    "#### Tips\n",
    "\n",
    "1. This mini-project is open-ended, and while working on it, there might be some situations where you'll have to use your own judgment and make your own decisions (as you would be doing when you work as a data scientist). Make sure you explain your decisions whenever necessary. \n",
    "2. **Do not include everything you ever tried in your submission** -- it's fine just to have your final code. That said, your code should be reproducible and well-documented. For example, if you chose your hyperparameters based on some hyperparameter optimization experiment, you should leave in the code for that experiment so that someone else could re-run it and obtain the same hyperparameters, rather than mysteriously just setting the hyperparameters to some (carefully chosen) values in your code. \n",
    "3. If you realize that you are repeating a lot of code try to organize it in functions. Clear presentation of your code, experiments, and results is the key to be successful in this lab. You may use code from lecture notes or previous lab solutions with appropriate attributions. \n",
    "4. If you are having trouble running models on your laptop because of the size of the dataset, you can create your train/test split in such a way that you have less data in the train split. If you end up doing this, please write a note to the grader in the submission explaining why you are doing it.  \n",
    "\n",
    "#### Assessment\n",
    "\n",
    "We plan to grade fairly and leniently. We don't have some secret target score that you need to achieve to get a good grade. **You'll be assessed on demonstration of mastery of course topics, clear presentation, and the quality of your analysis and results.** For example, if you just have a bunch of code and no text or figures, that's not good. If you do a bunch of sane things and get a lower accuracy than your friend, don't sweat it.\n",
    "\n",
    "#### A final note\n",
    "\n",
    "Finally, this style of this \"project\" question is different from other assignments. It'll be up to you to decide when you're \"done\" -- in fact, this is one of the hardest parts of real projects. But please don't spend WAY too much time on this... perhaps \"a few hours\" (2-8 hours???) is a good guideline for a typical submission. Of course if you're having fun you're welcome to spend as much time as you want! But, if so, try not to do it out of perfectionism or getting the best possible grade. Do it because you're learning and enjoying it. Students from the past cohorts have found such kind of labs useful and fun and I hope you enjoy it as well. "
   ]
  },
  {
   "cell_type": "markdown",
   "metadata": {},
   "source": [
    "<br><br>"
   ]
  },
  {
   "cell_type": "markdown",
   "metadata": {},
   "source": [
    "## 1. Understanding the problem <a name=\"1\"></a>\n",
    "<hr>\n",
    "rubric={points:4}\n",
    "\n",
    "In this mini project, you will be working on a classification problem of predicting whether a credit card client will default or not. \n",
    "For this problem, you will use [Default of Credit Card Clients Dataset](https://www.kaggle.com/uciml/default-of-credit-card-clients-dataset). In this data set, there are 30,000 examples and 24 features, and the goal is to estimate whether a person will default (fail to pay) their credit card bills; this column is labeled \"default.payment.next.month\" in the data. The rest of the columns can be used as features. You may take some ideas and compare your results with [the associated research paper](https://www.sciencedirect.com/science/article/pii/S0957417407006719), which is available through [the UBC library](https://www.library.ubc.ca/). \n",
    "\n",
    "**Your tasks:**\n",
    "\n",
    "1. Spend some time understanding the problem and what each feature means. You can find this information in the documentation on [the dataset page on Kaggle](https://www.kaggle.com/uciml/default-of-credit-card-clients-dataset). Write a few sentences on your initial thoughts on the problem and the dataset. \n",
    "2. Download the dataset and read it as a pandas dataframe. "
   ]
  },
  {
   "cell_type": "markdown",
   "metadata": {},
   "source": [
    "1. My initial thoughts, after exploring the features, is that `PAY_[0-6]` are strong predictors of default payment. Intuitively, when a client consistently delays their payments, they are less likely to be able to pay off their debt, and thus will likely default. Another pattern I saw from examining the data is that clients who consistently had `PAY_AMT[1-6]` = 0 with `BILL_AMT[1-6]` > 0 were also likely to default."
   ]
  },
  {
   "cell_type": "code",
   "execution_count": 29,
   "metadata": {},
   "outputs": [
    {
     "data": {
      "text/html": [
       "<div>\n",
       "<style scoped>\n",
       "    .dataframe tbody tr th:only-of-type {\n",
       "        vertical-align: middle;\n",
       "    }\n",
       "\n",
       "    .dataframe tbody tr th {\n",
       "        vertical-align: top;\n",
       "    }\n",
       "\n",
       "    .dataframe thead th {\n",
       "        text-align: right;\n",
       "    }\n",
       "</style>\n",
       "<table border=\"1\" class=\"dataframe\">\n",
       "  <thead>\n",
       "    <tr style=\"text-align: right;\">\n",
       "      <th></th>\n",
       "      <th>ID</th>\n",
       "      <th>LIMIT_BAL</th>\n",
       "      <th>SEX</th>\n",
       "      <th>EDUCATION</th>\n",
       "      <th>MARRIAGE</th>\n",
       "      <th>AGE</th>\n",
       "      <th>PAY_0</th>\n",
       "      <th>PAY_2</th>\n",
       "      <th>PAY_3</th>\n",
       "      <th>PAY_4</th>\n",
       "      <th>...</th>\n",
       "      <th>BILL_AMT4</th>\n",
       "      <th>BILL_AMT5</th>\n",
       "      <th>BILL_AMT6</th>\n",
       "      <th>PAY_AMT1</th>\n",
       "      <th>PAY_AMT2</th>\n",
       "      <th>PAY_AMT3</th>\n",
       "      <th>PAY_AMT4</th>\n",
       "      <th>PAY_AMT5</th>\n",
       "      <th>PAY_AMT6</th>\n",
       "      <th>default.payment.next.month</th>\n",
       "    </tr>\n",
       "  </thead>\n",
       "  <tbody>\n",
       "    <tr>\n",
       "      <th>0</th>\n",
       "      <td>1</td>\n",
       "      <td>20000.0</td>\n",
       "      <td>2</td>\n",
       "      <td>2</td>\n",
       "      <td>1</td>\n",
       "      <td>24</td>\n",
       "      <td>2</td>\n",
       "      <td>2</td>\n",
       "      <td>-1</td>\n",
       "      <td>-1</td>\n",
       "      <td>...</td>\n",
       "      <td>0.0</td>\n",
       "      <td>0.0</td>\n",
       "      <td>0.0</td>\n",
       "      <td>0.0</td>\n",
       "      <td>689.0</td>\n",
       "      <td>0.0</td>\n",
       "      <td>0.0</td>\n",
       "      <td>0.0</td>\n",
       "      <td>0.0</td>\n",
       "      <td>1</td>\n",
       "    </tr>\n",
       "    <tr>\n",
       "      <th>1</th>\n",
       "      <td>2</td>\n",
       "      <td>120000.0</td>\n",
       "      <td>2</td>\n",
       "      <td>2</td>\n",
       "      <td>2</td>\n",
       "      <td>26</td>\n",
       "      <td>-1</td>\n",
       "      <td>2</td>\n",
       "      <td>0</td>\n",
       "      <td>0</td>\n",
       "      <td>...</td>\n",
       "      <td>3272.0</td>\n",
       "      <td>3455.0</td>\n",
       "      <td>3261.0</td>\n",
       "      <td>0.0</td>\n",
       "      <td>1000.0</td>\n",
       "      <td>1000.0</td>\n",
       "      <td>1000.0</td>\n",
       "      <td>0.0</td>\n",
       "      <td>2000.0</td>\n",
       "      <td>1</td>\n",
       "    </tr>\n",
       "    <tr>\n",
       "      <th>2</th>\n",
       "      <td>3</td>\n",
       "      <td>90000.0</td>\n",
       "      <td>2</td>\n",
       "      <td>2</td>\n",
       "      <td>2</td>\n",
       "      <td>34</td>\n",
       "      <td>0</td>\n",
       "      <td>0</td>\n",
       "      <td>0</td>\n",
       "      <td>0</td>\n",
       "      <td>...</td>\n",
       "      <td>14331.0</td>\n",
       "      <td>14948.0</td>\n",
       "      <td>15549.0</td>\n",
       "      <td>1518.0</td>\n",
       "      <td>1500.0</td>\n",
       "      <td>1000.0</td>\n",
       "      <td>1000.0</td>\n",
       "      <td>1000.0</td>\n",
       "      <td>5000.0</td>\n",
       "      <td>0</td>\n",
       "    </tr>\n",
       "    <tr>\n",
       "      <th>3</th>\n",
       "      <td>4</td>\n",
       "      <td>50000.0</td>\n",
       "      <td>2</td>\n",
       "      <td>2</td>\n",
       "      <td>1</td>\n",
       "      <td>37</td>\n",
       "      <td>0</td>\n",
       "      <td>0</td>\n",
       "      <td>0</td>\n",
       "      <td>0</td>\n",
       "      <td>...</td>\n",
       "      <td>28314.0</td>\n",
       "      <td>28959.0</td>\n",
       "      <td>29547.0</td>\n",
       "      <td>2000.0</td>\n",
       "      <td>2019.0</td>\n",
       "      <td>1200.0</td>\n",
       "      <td>1100.0</td>\n",
       "      <td>1069.0</td>\n",
       "      <td>1000.0</td>\n",
       "      <td>0</td>\n",
       "    </tr>\n",
       "    <tr>\n",
       "      <th>4</th>\n",
       "      <td>5</td>\n",
       "      <td>50000.0</td>\n",
       "      <td>1</td>\n",
       "      <td>2</td>\n",
       "      <td>1</td>\n",
       "      <td>57</td>\n",
       "      <td>-1</td>\n",
       "      <td>0</td>\n",
       "      <td>-1</td>\n",
       "      <td>0</td>\n",
       "      <td>...</td>\n",
       "      <td>20940.0</td>\n",
       "      <td>19146.0</td>\n",
       "      <td>19131.0</td>\n",
       "      <td>2000.0</td>\n",
       "      <td>36681.0</td>\n",
       "      <td>10000.0</td>\n",
       "      <td>9000.0</td>\n",
       "      <td>689.0</td>\n",
       "      <td>679.0</td>\n",
       "      <td>0</td>\n",
       "    </tr>\n",
       "    <tr>\n",
       "      <th>...</th>\n",
       "      <td>...</td>\n",
       "      <td>...</td>\n",
       "      <td>...</td>\n",
       "      <td>...</td>\n",
       "      <td>...</td>\n",
       "      <td>...</td>\n",
       "      <td>...</td>\n",
       "      <td>...</td>\n",
       "      <td>...</td>\n",
       "      <td>...</td>\n",
       "      <td>...</td>\n",
       "      <td>...</td>\n",
       "      <td>...</td>\n",
       "      <td>...</td>\n",
       "      <td>...</td>\n",
       "      <td>...</td>\n",
       "      <td>...</td>\n",
       "      <td>...</td>\n",
       "      <td>...</td>\n",
       "      <td>...</td>\n",
       "      <td>...</td>\n",
       "    </tr>\n",
       "    <tr>\n",
       "      <th>29995</th>\n",
       "      <td>29996</td>\n",
       "      <td>220000.0</td>\n",
       "      <td>1</td>\n",
       "      <td>3</td>\n",
       "      <td>1</td>\n",
       "      <td>39</td>\n",
       "      <td>0</td>\n",
       "      <td>0</td>\n",
       "      <td>0</td>\n",
       "      <td>0</td>\n",
       "      <td>...</td>\n",
       "      <td>88004.0</td>\n",
       "      <td>31237.0</td>\n",
       "      <td>15980.0</td>\n",
       "      <td>8500.0</td>\n",
       "      <td>20000.0</td>\n",
       "      <td>5003.0</td>\n",
       "      <td>3047.0</td>\n",
       "      <td>5000.0</td>\n",
       "      <td>1000.0</td>\n",
       "      <td>0</td>\n",
       "    </tr>\n",
       "    <tr>\n",
       "      <th>29996</th>\n",
       "      <td>29997</td>\n",
       "      <td>150000.0</td>\n",
       "      <td>1</td>\n",
       "      <td>3</td>\n",
       "      <td>2</td>\n",
       "      <td>43</td>\n",
       "      <td>-1</td>\n",
       "      <td>-1</td>\n",
       "      <td>-1</td>\n",
       "      <td>-1</td>\n",
       "      <td>...</td>\n",
       "      <td>8979.0</td>\n",
       "      <td>5190.0</td>\n",
       "      <td>0.0</td>\n",
       "      <td>1837.0</td>\n",
       "      <td>3526.0</td>\n",
       "      <td>8998.0</td>\n",
       "      <td>129.0</td>\n",
       "      <td>0.0</td>\n",
       "      <td>0.0</td>\n",
       "      <td>0</td>\n",
       "    </tr>\n",
       "    <tr>\n",
       "      <th>29997</th>\n",
       "      <td>29998</td>\n",
       "      <td>30000.0</td>\n",
       "      <td>1</td>\n",
       "      <td>2</td>\n",
       "      <td>2</td>\n",
       "      <td>37</td>\n",
       "      <td>4</td>\n",
       "      <td>3</td>\n",
       "      <td>2</td>\n",
       "      <td>-1</td>\n",
       "      <td>...</td>\n",
       "      <td>20878.0</td>\n",
       "      <td>20582.0</td>\n",
       "      <td>19357.0</td>\n",
       "      <td>0.0</td>\n",
       "      <td>0.0</td>\n",
       "      <td>22000.0</td>\n",
       "      <td>4200.0</td>\n",
       "      <td>2000.0</td>\n",
       "      <td>3100.0</td>\n",
       "      <td>1</td>\n",
       "    </tr>\n",
       "    <tr>\n",
       "      <th>29998</th>\n",
       "      <td>29999</td>\n",
       "      <td>80000.0</td>\n",
       "      <td>1</td>\n",
       "      <td>3</td>\n",
       "      <td>1</td>\n",
       "      <td>41</td>\n",
       "      <td>1</td>\n",
       "      <td>-1</td>\n",
       "      <td>0</td>\n",
       "      <td>0</td>\n",
       "      <td>...</td>\n",
       "      <td>52774.0</td>\n",
       "      <td>11855.0</td>\n",
       "      <td>48944.0</td>\n",
       "      <td>85900.0</td>\n",
       "      <td>3409.0</td>\n",
       "      <td>1178.0</td>\n",
       "      <td>1926.0</td>\n",
       "      <td>52964.0</td>\n",
       "      <td>1804.0</td>\n",
       "      <td>1</td>\n",
       "    </tr>\n",
       "    <tr>\n",
       "      <th>29999</th>\n",
       "      <td>30000</td>\n",
       "      <td>50000.0</td>\n",
       "      <td>1</td>\n",
       "      <td>2</td>\n",
       "      <td>1</td>\n",
       "      <td>46</td>\n",
       "      <td>0</td>\n",
       "      <td>0</td>\n",
       "      <td>0</td>\n",
       "      <td>0</td>\n",
       "      <td>...</td>\n",
       "      <td>36535.0</td>\n",
       "      <td>32428.0</td>\n",
       "      <td>15313.0</td>\n",
       "      <td>2078.0</td>\n",
       "      <td>1800.0</td>\n",
       "      <td>1430.0</td>\n",
       "      <td>1000.0</td>\n",
       "      <td>1000.0</td>\n",
       "      <td>1000.0</td>\n",
       "      <td>1</td>\n",
       "    </tr>\n",
       "  </tbody>\n",
       "</table>\n",
       "<p>30000 rows × 25 columns</p>\n",
       "</div>"
      ],
      "text/plain": [
       "          ID  LIMIT_BAL  SEX  EDUCATION  MARRIAGE  AGE  PAY_0  PAY_2  PAY_3  \\\n",
       "0          1    20000.0    2          2         1   24      2      2     -1   \n",
       "1          2   120000.0    2          2         2   26     -1      2      0   \n",
       "2          3    90000.0    2          2         2   34      0      0      0   \n",
       "3          4    50000.0    2          2         1   37      0      0      0   \n",
       "4          5    50000.0    1          2         1   57     -1      0     -1   \n",
       "...      ...        ...  ...        ...       ...  ...    ...    ...    ...   \n",
       "29995  29996   220000.0    1          3         1   39      0      0      0   \n",
       "29996  29997   150000.0    1          3         2   43     -1     -1     -1   \n",
       "29997  29998    30000.0    1          2         2   37      4      3      2   \n",
       "29998  29999    80000.0    1          3         1   41      1     -1      0   \n",
       "29999  30000    50000.0    1          2         1   46      0      0      0   \n",
       "\n",
       "       PAY_4  ...  BILL_AMT4  BILL_AMT5  BILL_AMT6  PAY_AMT1  PAY_AMT2  \\\n",
       "0         -1  ...        0.0        0.0        0.0       0.0     689.0   \n",
       "1          0  ...     3272.0     3455.0     3261.0       0.0    1000.0   \n",
       "2          0  ...    14331.0    14948.0    15549.0    1518.0    1500.0   \n",
       "3          0  ...    28314.0    28959.0    29547.0    2000.0    2019.0   \n",
       "4          0  ...    20940.0    19146.0    19131.0    2000.0   36681.0   \n",
       "...      ...  ...        ...        ...        ...       ...       ...   \n",
       "29995      0  ...    88004.0    31237.0    15980.0    8500.0   20000.0   \n",
       "29996     -1  ...     8979.0     5190.0        0.0    1837.0    3526.0   \n",
       "29997     -1  ...    20878.0    20582.0    19357.0       0.0       0.0   \n",
       "29998      0  ...    52774.0    11855.0    48944.0   85900.0    3409.0   \n",
       "29999      0  ...    36535.0    32428.0    15313.0    2078.0    1800.0   \n",
       "\n",
       "       PAY_AMT3  PAY_AMT4  PAY_AMT5  PAY_AMT6  default.payment.next.month  \n",
       "0           0.0       0.0       0.0       0.0                           1  \n",
       "1        1000.0    1000.0       0.0    2000.0                           1  \n",
       "2        1000.0    1000.0    1000.0    5000.0                           0  \n",
       "3        1200.0    1100.0    1069.0    1000.0                           0  \n",
       "4       10000.0    9000.0     689.0     679.0                           0  \n",
       "...         ...       ...       ...       ...                         ...  \n",
       "29995    5003.0    3047.0    5000.0    1000.0                           0  \n",
       "29996    8998.0     129.0       0.0       0.0                           0  \n",
       "29997   22000.0    4200.0    2000.0    3100.0                           1  \n",
       "29998    1178.0    1926.0   52964.0    1804.0                           1  \n",
       "29999    1430.0    1000.0    1000.0    1000.0                           1  \n",
       "\n",
       "[30000 rows x 25 columns]"
      ]
     },
     "execution_count": 29,
     "metadata": {},
     "output_type": "execute_result"
    }
   ],
   "source": [
    "df = pd.read_csv(\"./UCI_Credit_Card.csv\")\n",
    "df"
   ]
  },
  {
   "cell_type": "markdown",
   "metadata": {},
   "source": [
    "<br><br>"
   ]
  },
  {
   "cell_type": "markdown",
   "metadata": {},
   "source": [
    "## 2. Data splitting <a name=\"2\"></a>\n",
    "<hr>\n",
    "rubric={points:2}\n",
    "\n",
    "**Your tasks:**\n",
    "\n",
    "1. Split the data into train and test portions. "
   ]
  },
  {
   "cell_type": "code",
   "execution_count": 30,
   "metadata": {},
   "outputs": [],
   "source": [
    "train_df, test_df = train_test_split(df, test_size=0.2, random_state=123)\n",
    "\n",
    "X_train = train_df.drop(columns=[\"default.payment.next.month\"])\n",
    "y_train = train_df[\"default.payment.next.month\"]\n",
    "\n",
    "X_test = test_df.drop(columns=[\"default.payment.next.month\"])\n",
    "y_test = test_df[\"default.payment.next.month\"]"
   ]
  },
  {
   "cell_type": "markdown",
   "metadata": {},
   "source": [
    "<br><br>"
   ]
  },
  {
   "cell_type": "markdown",
   "metadata": {},
   "source": [
    "## 3. EDA <a name=\"3\"></a>\n",
    "<hr>\n",
    "rubric={points:10}\n",
    "\n",
    "**Your tasks:**\n",
    "\n",
    "1. Perform exploratory data analysis on the train set.\n",
    "2. Include at least two summary statistics and two visualizations that you find useful, and accompany each one with a sentence explaining it.\n",
    "3. Summarize your initial observations about the data. \n",
    "4. Pick appropriate metric/metrics for assessment. "
   ]
  },
  {
   "cell_type": "markdown",
   "metadata": {},
   "source": [
    "### 3.1 Perform exploratory data analysis on the train set."
   ]
  },
  {
   "cell_type": "code",
   "execution_count": 31,
   "metadata": {},
   "outputs": [
    {
     "data": {
      "text/html": [
       "<div>\n",
       "<style scoped>\n",
       "    .dataframe tbody tr th:only-of-type {\n",
       "        vertical-align: middle;\n",
       "    }\n",
       "\n",
       "    .dataframe tbody tr th {\n",
       "        vertical-align: top;\n",
       "    }\n",
       "\n",
       "    .dataframe thead th {\n",
       "        text-align: right;\n",
       "    }\n",
       "</style>\n",
       "<table border=\"1\" class=\"dataframe\">\n",
       "  <thead>\n",
       "    <tr style=\"text-align: right;\">\n",
       "      <th></th>\n",
       "      <th>ID</th>\n",
       "      <th>LIMIT_BAL</th>\n",
       "      <th>SEX</th>\n",
       "      <th>EDUCATION</th>\n",
       "      <th>MARRIAGE</th>\n",
       "      <th>AGE</th>\n",
       "      <th>PAY_0</th>\n",
       "      <th>PAY_2</th>\n",
       "      <th>PAY_3</th>\n",
       "      <th>PAY_4</th>\n",
       "      <th>...</th>\n",
       "      <th>BILL_AMT4</th>\n",
       "      <th>BILL_AMT5</th>\n",
       "      <th>BILL_AMT6</th>\n",
       "      <th>PAY_AMT1</th>\n",
       "      <th>PAY_AMT2</th>\n",
       "      <th>PAY_AMT3</th>\n",
       "      <th>PAY_AMT4</th>\n",
       "      <th>PAY_AMT5</th>\n",
       "      <th>PAY_AMT6</th>\n",
       "      <th>default.payment.next.month</th>\n",
       "    </tr>\n",
       "  </thead>\n",
       "  <tbody>\n",
       "    <tr>\n",
       "      <th>count</th>\n",
       "      <td>24000.000000</td>\n",
       "      <td>24000.000000</td>\n",
       "      <td>24000.000000</td>\n",
       "      <td>24000.000000</td>\n",
       "      <td>24000.000000</td>\n",
       "      <td>24000.000000</td>\n",
       "      <td>24000.000000</td>\n",
       "      <td>24000.000000</td>\n",
       "      <td>24000.000000</td>\n",
       "      <td>24000.000000</td>\n",
       "      <td>...</td>\n",
       "      <td>24000.000000</td>\n",
       "      <td>24000.000000</td>\n",
       "      <td>24000.000000</td>\n",
       "      <td>24000.000000</td>\n",
       "      <td>2.400000e+04</td>\n",
       "      <td>24000.000000</td>\n",
       "      <td>24000.000000</td>\n",
       "      <td>24000.000000</td>\n",
       "      <td>24000.000000</td>\n",
       "      <td>24000.000000</td>\n",
       "    </tr>\n",
       "    <tr>\n",
       "      <th>mean</th>\n",
       "      <td>14964.174292</td>\n",
       "      <td>167893.486667</td>\n",
       "      <td>1.603125</td>\n",
       "      <td>1.851958</td>\n",
       "      <td>1.553375</td>\n",
       "      <td>35.488458</td>\n",
       "      <td>-0.017542</td>\n",
       "      <td>-0.135292</td>\n",
       "      <td>-0.170042</td>\n",
       "      <td>-0.224292</td>\n",
       "      <td>...</td>\n",
       "      <td>43389.105625</td>\n",
       "      <td>40297.970375</td>\n",
       "      <td>38708.777542</td>\n",
       "      <td>5656.319917</td>\n",
       "      <td>5.910454e+03</td>\n",
       "      <td>5280.658708</td>\n",
       "      <td>4763.854250</td>\n",
       "      <td>4805.837667</td>\n",
       "      <td>5277.577958</td>\n",
       "      <td>0.222167</td>\n",
       "    </tr>\n",
       "    <tr>\n",
       "      <th>std</th>\n",
       "      <td>8660.479272</td>\n",
       "      <td>130109.666875</td>\n",
       "      <td>0.489260</td>\n",
       "      <td>0.790560</td>\n",
       "      <td>0.521452</td>\n",
       "      <td>9.217424</td>\n",
       "      <td>1.125331</td>\n",
       "      <td>1.199812</td>\n",
       "      <td>1.201709</td>\n",
       "      <td>1.170630</td>\n",
       "      <td>...</td>\n",
       "      <td>64572.844994</td>\n",
       "      <td>60878.153831</td>\n",
       "      <td>59355.284889</td>\n",
       "      <td>16757.718059</td>\n",
       "      <td>2.134743e+04</td>\n",
       "      <td>17973.951980</td>\n",
       "      <td>15162.056345</td>\n",
       "      <td>15251.828322</td>\n",
       "      <td>18222.046645</td>\n",
       "      <td>0.415711</td>\n",
       "    </tr>\n",
       "    <tr>\n",
       "      <th>min</th>\n",
       "      <td>1.000000</td>\n",
       "      <td>10000.000000</td>\n",
       "      <td>1.000000</td>\n",
       "      <td>0.000000</td>\n",
       "      <td>0.000000</td>\n",
       "      <td>21.000000</td>\n",
       "      <td>-2.000000</td>\n",
       "      <td>-2.000000</td>\n",
       "      <td>-2.000000</td>\n",
       "      <td>-2.000000</td>\n",
       "      <td>...</td>\n",
       "      <td>-65167.000000</td>\n",
       "      <td>-61372.000000</td>\n",
       "      <td>-339603.000000</td>\n",
       "      <td>0.000000</td>\n",
       "      <td>0.000000e+00</td>\n",
       "      <td>0.000000</td>\n",
       "      <td>0.000000</td>\n",
       "      <td>0.000000</td>\n",
       "      <td>0.000000</td>\n",
       "      <td>0.000000</td>\n",
       "    </tr>\n",
       "    <tr>\n",
       "      <th>25%</th>\n",
       "      <td>7467.750000</td>\n",
       "      <td>50000.000000</td>\n",
       "      <td>1.000000</td>\n",
       "      <td>1.000000</td>\n",
       "      <td>1.000000</td>\n",
       "      <td>28.000000</td>\n",
       "      <td>-1.000000</td>\n",
       "      <td>-1.000000</td>\n",
       "      <td>-1.000000</td>\n",
       "      <td>-1.000000</td>\n",
       "      <td>...</td>\n",
       "      <td>2310.000000</td>\n",
       "      <td>1744.250000</td>\n",
       "      <td>1200.000000</td>\n",
       "      <td>990.000000</td>\n",
       "      <td>8.150000e+02</td>\n",
       "      <td>390.000000</td>\n",
       "      <td>281.750000</td>\n",
       "      <td>234.000000</td>\n",
       "      <td>110.750000</td>\n",
       "      <td>0.000000</td>\n",
       "    </tr>\n",
       "    <tr>\n",
       "      <th>50%</th>\n",
       "      <td>14975.000000</td>\n",
       "      <td>140000.000000</td>\n",
       "      <td>2.000000</td>\n",
       "      <td>2.000000</td>\n",
       "      <td>2.000000</td>\n",
       "      <td>34.000000</td>\n",
       "      <td>0.000000</td>\n",
       "      <td>0.000000</td>\n",
       "      <td>0.000000</td>\n",
       "      <td>0.000000</td>\n",
       "      <td>...</td>\n",
       "      <td>19032.000000</td>\n",
       "      <td>18019.000000</td>\n",
       "      <td>16812.500000</td>\n",
       "      <td>2100.000000</td>\n",
       "      <td>2.010000e+03</td>\n",
       "      <td>1801.500000</td>\n",
       "      <td>1500.000000</td>\n",
       "      <td>1500.000000</td>\n",
       "      <td>1500.000000</td>\n",
       "      <td>0.000000</td>\n",
       "    </tr>\n",
       "    <tr>\n",
       "      <th>75%</th>\n",
       "      <td>22460.250000</td>\n",
       "      <td>240000.000000</td>\n",
       "      <td>2.000000</td>\n",
       "      <td>2.000000</td>\n",
       "      <td>2.000000</td>\n",
       "      <td>41.000000</td>\n",
       "      <td>0.000000</td>\n",
       "      <td>0.000000</td>\n",
       "      <td>0.000000</td>\n",
       "      <td>0.000000</td>\n",
       "      <td>...</td>\n",
       "      <td>54591.500000</td>\n",
       "      <td>50237.250000</td>\n",
       "      <td>49132.750000</td>\n",
       "      <td>5009.000000</td>\n",
       "      <td>5.000000e+03</td>\n",
       "      <td>4600.000000</td>\n",
       "      <td>4026.000000</td>\n",
       "      <td>4009.250000</td>\n",
       "      <td>4000.000000</td>\n",
       "      <td>0.000000</td>\n",
       "    </tr>\n",
       "    <tr>\n",
       "      <th>max</th>\n",
       "      <td>30000.000000</td>\n",
       "      <td>1000000.000000</td>\n",
       "      <td>2.000000</td>\n",
       "      <td>6.000000</td>\n",
       "      <td>3.000000</td>\n",
       "      <td>79.000000</td>\n",
       "      <td>8.000000</td>\n",
       "      <td>8.000000</td>\n",
       "      <td>8.000000</td>\n",
       "      <td>8.000000</td>\n",
       "      <td>...</td>\n",
       "      <td>891586.000000</td>\n",
       "      <td>927171.000000</td>\n",
       "      <td>961664.000000</td>\n",
       "      <td>873552.000000</td>\n",
       "      <td>1.227082e+06</td>\n",
       "      <td>896040.000000</td>\n",
       "      <td>621000.000000</td>\n",
       "      <td>426529.000000</td>\n",
       "      <td>528666.000000</td>\n",
       "      <td>1.000000</td>\n",
       "    </tr>\n",
       "  </tbody>\n",
       "</table>\n",
       "<p>8 rows × 25 columns</p>\n",
       "</div>"
      ],
      "text/plain": [
       "                 ID       LIMIT_BAL           SEX     EDUCATION      MARRIAGE  \\\n",
       "count  24000.000000    24000.000000  24000.000000  24000.000000  24000.000000   \n",
       "mean   14964.174292   167893.486667      1.603125      1.851958      1.553375   \n",
       "std     8660.479272   130109.666875      0.489260      0.790560      0.521452   \n",
       "min        1.000000    10000.000000      1.000000      0.000000      0.000000   \n",
       "25%     7467.750000    50000.000000      1.000000      1.000000      1.000000   \n",
       "50%    14975.000000   140000.000000      2.000000      2.000000      2.000000   \n",
       "75%    22460.250000   240000.000000      2.000000      2.000000      2.000000   \n",
       "max    30000.000000  1000000.000000      2.000000      6.000000      3.000000   \n",
       "\n",
       "                AGE         PAY_0         PAY_2         PAY_3         PAY_4  \\\n",
       "count  24000.000000  24000.000000  24000.000000  24000.000000  24000.000000   \n",
       "mean      35.488458     -0.017542     -0.135292     -0.170042     -0.224292   \n",
       "std        9.217424      1.125331      1.199812      1.201709      1.170630   \n",
       "min       21.000000     -2.000000     -2.000000     -2.000000     -2.000000   \n",
       "25%       28.000000     -1.000000     -1.000000     -1.000000     -1.000000   \n",
       "50%       34.000000      0.000000      0.000000      0.000000      0.000000   \n",
       "75%       41.000000      0.000000      0.000000      0.000000      0.000000   \n",
       "max       79.000000      8.000000      8.000000      8.000000      8.000000   \n",
       "\n",
       "       ...      BILL_AMT4      BILL_AMT5      BILL_AMT6       PAY_AMT1  \\\n",
       "count  ...   24000.000000   24000.000000   24000.000000   24000.000000   \n",
       "mean   ...   43389.105625   40297.970375   38708.777542    5656.319917   \n",
       "std    ...   64572.844994   60878.153831   59355.284889   16757.718059   \n",
       "min    ...  -65167.000000  -61372.000000 -339603.000000       0.000000   \n",
       "25%    ...    2310.000000    1744.250000    1200.000000     990.000000   \n",
       "50%    ...   19032.000000   18019.000000   16812.500000    2100.000000   \n",
       "75%    ...   54591.500000   50237.250000   49132.750000    5009.000000   \n",
       "max    ...  891586.000000  927171.000000  961664.000000  873552.000000   \n",
       "\n",
       "           PAY_AMT2       PAY_AMT3       PAY_AMT4       PAY_AMT5  \\\n",
       "count  2.400000e+04   24000.000000   24000.000000   24000.000000   \n",
       "mean   5.910454e+03    5280.658708    4763.854250    4805.837667   \n",
       "std    2.134743e+04   17973.951980   15162.056345   15251.828322   \n",
       "min    0.000000e+00       0.000000       0.000000       0.000000   \n",
       "25%    8.150000e+02     390.000000     281.750000     234.000000   \n",
       "50%    2.010000e+03    1801.500000    1500.000000    1500.000000   \n",
       "75%    5.000000e+03    4600.000000    4026.000000    4009.250000   \n",
       "max    1.227082e+06  896040.000000  621000.000000  426529.000000   \n",
       "\n",
       "            PAY_AMT6  default.payment.next.month  \n",
       "count   24000.000000                24000.000000  \n",
       "mean     5277.577958                    0.222167  \n",
       "std     18222.046645                    0.415711  \n",
       "min         0.000000                    0.000000  \n",
       "25%       110.750000                    0.000000  \n",
       "50%      1500.000000                    0.000000  \n",
       "75%      4000.000000                    0.000000  \n",
       "max    528666.000000                    1.000000  \n",
       "\n",
       "[8 rows x 25 columns]"
      ]
     },
     "execution_count": 31,
     "metadata": {},
     "output_type": "execute_result"
    }
   ],
   "source": [
    "train_df.describe(include=\"all\")"
   ]
  },
  {
   "cell_type": "markdown",
   "metadata": {},
   "source": [
    "Initial insights: we may want to get rid of the `ID` column (since it just seems to be an identifier). We may also consider getting rid of the `SEX` column, since we don't want our model to be biased towards a certain gender."
   ]
  },
  {
   "cell_type": "code",
   "execution_count": 32,
   "metadata": {},
   "outputs": [
    {
     "name": "stdout",
     "output_type": "stream",
     "text": [
      "<class 'pandas.core.frame.DataFrame'>\n",
      "Int64Index: 24000 entries, 19682 to 19966\n",
      "Data columns (total 25 columns):\n",
      " #   Column                      Non-Null Count  Dtype  \n",
      "---  ------                      --------------  -----  \n",
      " 0   ID                          24000 non-null  int64  \n",
      " 1   LIMIT_BAL                   24000 non-null  float64\n",
      " 2   SEX                         24000 non-null  int64  \n",
      " 3   EDUCATION                   24000 non-null  int64  \n",
      " 4   MARRIAGE                    24000 non-null  int64  \n",
      " 5   AGE                         24000 non-null  int64  \n",
      " 6   PAY_0                       24000 non-null  int64  \n",
      " 7   PAY_2                       24000 non-null  int64  \n",
      " 8   PAY_3                       24000 non-null  int64  \n",
      " 9   PAY_4                       24000 non-null  int64  \n",
      " 10  PAY_5                       24000 non-null  int64  \n",
      " 11  PAY_6                       24000 non-null  int64  \n",
      " 12  BILL_AMT1                   24000 non-null  float64\n",
      " 13  BILL_AMT2                   24000 non-null  float64\n",
      " 14  BILL_AMT3                   24000 non-null  float64\n",
      " 15  BILL_AMT4                   24000 non-null  float64\n",
      " 16  BILL_AMT5                   24000 non-null  float64\n",
      " 17  BILL_AMT6                   24000 non-null  float64\n",
      " 18  PAY_AMT1                    24000 non-null  float64\n",
      " 19  PAY_AMT2                    24000 non-null  float64\n",
      " 20  PAY_AMT3                    24000 non-null  float64\n",
      " 21  PAY_AMT4                    24000 non-null  float64\n",
      " 22  PAY_AMT5                    24000 non-null  float64\n",
      " 23  PAY_AMT6                    24000 non-null  float64\n",
      " 24  default.payment.next.month  24000 non-null  int64  \n",
      "dtypes: float64(13), int64(12)\n",
      "memory usage: 4.8 MB\n"
     ]
    }
   ],
   "source": [
    "train_df.info()"
   ]
  },
  {
   "cell_type": "markdown",
   "metadata": {},
   "source": [
    "Looking at the values in the `Non-Null`, it seems that no column is missing any values. We most likely won't need to impute values, but having an imputation step won't hurt (in case there are some missing values in the test set)"
   ]
  },
  {
   "cell_type": "code",
   "execution_count": 33,
   "metadata": {},
   "outputs": [
    {
     "data": {
      "text/plain": [
       "array([ 0, -1,  1,  4,  2, -2,  8,  3,  5,  6,  7])"
      ]
     },
     "execution_count": 33,
     "metadata": {},
     "output_type": "execute_result"
    }
   ],
   "source": [
    "train_df[\"PAY_0\"].unique()"
   ]
  },
  {
   "cell_type": "markdown",
   "metadata": {},
   "source": [
    "### 3.2 Include at least two summary statistics and two visualizations that you find useful, and accompany each one with a sentence explaining it."
   ]
  },
  {
   "cell_type": "code",
   "execution_count": 34,
   "metadata": {},
   "outputs": [],
   "source": [
    "# TODO: which summary stats to choose from .describe()?\n"
   ]
  },
  {
   "cell_type": "code",
   "execution_count": 35,
   "metadata": {},
   "outputs": [],
   "source": [
    "# plotting code below is inspired by the similar histogram question in hw2\n",
    "def plot_single_hist(x_list, bins, labels, title, xlabel, alpha=1.0, histtype=\"bar\"):\n",
    "    for i in range(len(x_list)):\n",
    "        plt.hist(x=x_list[i], bins=bins, alpha=alpha, label=labels[i], histtype=histtype)\n",
    "    plt.legend(loc=\"upper right\")\n",
    "    plt.title(title)\n",
    "    plt.xlabel(xlabel)\n",
    "    plt.ylabel(\"count\")\n",
    "    plt.show()"
   ]
  },
  {
   "cell_type": "code",
   "execution_count": 36,
   "metadata": {},
   "outputs": [
    {
     "data": {
      "text/plain": [
       "array([ 0, -1,  1,  4,  2, -2,  8,  3,  5,  6,  7])"
      ]
     },
     "execution_count": 36,
     "metadata": {},
     "output_type": "execute_result"
    }
   ],
   "source": [
    "X_train[\"PAY_0\"].unique()"
   ]
  },
  {
   "cell_type": "code",
   "execution_count": 37,
   "metadata": {},
   "outputs": [],
   "source": [
    "# histogram on target values to show class dominance\n",
    "# histograms on PAY_[0-6] and PAY_AMT[0-6] and their target values\n",
    "# histogram of limit balance"
   ]
  },
  {
   "cell_type": "code",
   "execution_count": 38,
   "metadata": {},
   "outputs": [
    {
     "data": {
      "image/png": "[encoded data removed]",
      "text/plain": [
       "<Figure size 432x288 with 1 Axes>"
      ]
     },
     "metadata": {
      "needs_background": "light"
     },
     "output_type": "display_data"
    }
   ],
   "source": [
    "# plot histogram of the target class variable to check for class imbalance\n",
    "plot_single_hist([y_train], 2, [\"Default Status\"], \"Histogram of Default Statuses\", \"Default Status\")"
   ]
  },
  {
   "cell_type": "markdown",
   "metadata": {},
   "source": [
    "This histogram shows the distribution of the values of the target class variable which represents whether a client defaulted or not. From this histogram, we can observe that there is a clear class imbalance as there are many more examples of the negative class than of the positive class."
   ]
  },
  {
   "cell_type": "code",
   "execution_count": 39,
   "metadata": {},
   "outputs": [
    {
     "data": {
      "image/png": "[encoded data removed]",
      "text/plain": [
       "<Figure size 432x288 with 1 Axes>"
      ]
     },
     "metadata": {
      "needs_background": "light"
     },
     "output_type": "display_data"
    }
   ],
   "source": [
    "# retrieve all examples with negative and positive class labels separately\n",
    "negative_examples = train_df[train_df[\"default.payment.next.month\"] == 0]\n",
    "positive_examples = train_df[train_df[\"default.payment.next.month\"] == 1]\n",
    "\n",
    "# plot histogram of Repayment Status in Sept 2005 for both target classes\n",
    "plot_single_hist(\n",
    "    [negative_examples[\"PAY_0\"], positive_examples[\"PAY_0\"]],\n",
    "    10,\n",
    "    [\"Repayment Status (September, 2005) for Non-Defaults\",\n",
    "     \"Repayment Status (September, 2005) for Defaults\"],\n",
    "    \"Histogram of Repayment Statuses (September, 2005)\",\n",
    "    \"Repayment Status\",\n",
    "    0.5,\n",
    "    \"barstacked\"\n",
    ")"
   ]
  },
  {
   "cell_type": "markdown",
   "metadata": {},
   "source": [
    "This histogram shows the repayment status of clients in Sept, 2005 for both non-default and defaulted clients. A quick observation from this histogram is that clients that had more months of payment delays tend to default more than the clients that have less or zero payment delays."
   ]
  },
  {
   "cell_type": "markdown",
   "metadata": {},
   "source": [
    "### 3.3 Summarize your initial observations about the data."
   ]
  },
  {
   "cell_type": "markdown",
   "metadata": {},
   "source": [
    "- In this dataset, the positive class is when a client defaults, and the negative class is when a client does not default.\n",
    "- False negatives (failing to predict default) could be more damaging, because the bank will not be able to recover the money they loaned the client in the form of credit.\n",
    "   - In this case, measuring recall could be important because we do not want someone who will default to slip by the predictions (e.g. we want to minimize the number of false negatives - increase recall)\n",
    "   - However, we also want to ensure that we favour predicting default correctly, therefore, prediction is also important.\n",
    "- There is class imbalance, where non-default examples dominate. We can also see this by noticing that the mean of `default.payment.next.month` is closer to 0 than 1\n",
    "   - Therefore, accuracy is likely not a good metric for assessment   \n"
   ]
  },
  {
   "cell_type": "markdown",
   "metadata": {},
   "source": [
    "### 3.4 Pick appropriate metric/metrics for assessment."
   ]
  },
  {
   "cell_type": "markdown",
   "metadata": {},
   "source": [
    "We will primarily use **f1** as a metric for assessment.\n",
    "- While recall is important as it allows us to measure the proportion of positive examples that are identified, we also need to ensure that our model correctly identifies positive examples, measured using precision. \n",
    "- This is because it is possible for our model to be extremely cautious and identify every client as likely to default, predicting all examples as positive; \n",
    "    - in such case, some predictions will undoubtedly be true positives (meaning TP > 0), and because we did not predict any negative cases, FN and TN will both be 0. \n",
    "    - Recall = TP / (TP + FN), so if TP > 0 and FN = 0, it means that recall = 1 when every client is predicted to have high default risk. \n",
    "    - If everyone is positive, then no one is positive, and our predictions would be meaningless. \n",
    "- We need to strike a balance between predicting positive samples (recall) and _correctly_ predicting positive samples (precision) - f1 would allow us to do that. \n",
    "\n"
   ]
  },
  {
   "cell_type": "markdown",
   "metadata": {},
   "source": [
    "<br><br>"
   ]
  },
  {
   "cell_type": "markdown",
   "metadata": {},
   "source": [
    "## (Optional) 4. Feature engineering <a name=\"4\"></a>\n",
    "<hr>\n",
    "rubric={points:1}\n",
    "\n",
    "**Your tasks:**\n",
    "\n",
    "1. Carry out feature engineering. In other words, extract new features relevant for the problem and work with your new feature set in the following exercises. You may have to go back and forth between feature engineering and preprocessing. "
   ]
  },
  {
   "cell_type": "markdown",
   "metadata": {},
   "source": []
  },
  {
   "cell_type": "markdown",
   "metadata": {},
   "source": [
    "<br><br>"
   ]
  },
  {
   "cell_type": "markdown",
   "metadata": {},
   "source": [
    "## 5. Preprocessing and transformations <a name=\"5\"></a>\n",
    "<hr>\n",
    "rubric={points:10}\n",
    "\n",
    "**Your tasks:**\n",
    "\n",
    "1. Identify different feature types and the transformations you would apply on each feature type. \n",
    "2. Define a column transformer, if necessary. "
   ]
  },
  {
   "cell_type": "markdown",
   "metadata": {},
   "source": [
    "### 5.1 Identify different feature types and the transformations you would apply on each feature type."
   ]
  },
  {
   "cell_type": "code",
   "execution_count": 40,
   "metadata": {},
   "outputs": [
    {
     "data": {
      "text/plain": [
       "'\\nNote that we do not need ordinal encoder for PAY_[0-6] because the encoder will just change the ordering to integers, which is ordering that the columns already have.\\n'"
      ]
     },
     "execution_count": 40,
     "metadata": {},
     "output_type": "execute_result"
    }
   ],
   "source": [
    "drop_features = [\n",
    "    \"ID\",\n",
    "    \"SEX\"\n",
    "]\n",
    "numeric_features = [\n",
    "    \"LIMIT_BAL\",\n",
    "    \"AGE\", \n",
    "    \"BILL_AMT1\",\n",
    "    \"BILL_AMT2\",\n",
    "    \"BILL_AMT3\",\n",
    "    \"BILL_AMT4\",\n",
    "    \"BILL_AMT5\",\n",
    "    \"BILL_AMT6\",\n",
    "    \"PAY_AMT1\",\n",
    "    \"PAY_AMT2\",\n",
    "    \"PAY_AMT3\",\n",
    "    \"PAY_AMT4\",\n",
    "    \"PAY_AMT5\",\n",
    "    \"PAY_AMT6\",\n",
    "]\n",
    "\n",
    "categorical_features = [\n",
    "    \"EDUCATION\",\n",
    "    \"MARRIAGE\",\n",
    "    \"PAY_0\",\n",
    "    \"PAY_2\",\n",
    "    \"PAY_3\",\n",
    "    \"PAY_4\",\n",
    "    \"PAY_5\",\n",
    "    \"PAY_6\",\n",
    "]\n",
    "\"\"\"\n",
    "Note that we do not need ordinal encoder for PAY_[0-6] because the encoder will just change the ordering to integers, which is ordering that the columns already have.\n",
    "\"\"\""
   ]
  },
  {
   "cell_type": "markdown",
   "metadata": {},
   "source": [
    "### 5.2 Define a column transformer, if necessary."
   ]
  },
  {
   "cell_type": "code",
   "execution_count": 41,
   "metadata": {},
   "outputs": [],
   "source": [
    "numeric_transformer = StandardScaler()\n",
    "categorical_transformer = OneHotEncoder(handle_unknown=\"ignore\", sparse=False)\n",
    "preprocessor = make_column_transformer(\n",
    "    (\"drop\", drop_features),\n",
    "    (numeric_transformer, numeric_features),\n",
    "    (categorical_transformer, categorical_features),\n",
    ")"
   ]
  },
  {
   "cell_type": "markdown",
   "metadata": {},
   "source": [
    "<br><br>"
   ]
  },
  {
   "cell_type": "markdown",
   "metadata": {},
   "source": [
    "## 6. Baseline model <a name=\"6\"></a>\n",
    "<hr>\n",
    "\n",
    "rubric={points:2}\n",
    "\n",
    "**Your tasks:**\n",
    "1. Try `scikit-learn`'s baseline model and report results."
   ]
  },
  {
   "cell_type": "code",
   "execution_count": 42,
   "metadata": {},
   "outputs": [],
   "source": [
    "scoring = [\n",
    "    \"accuracy\",\n",
    "    \"f1\",\n",
    "    \"recall\",\n",
    "    \"precision\",\n",
    "]"
   ]
  },
  {
   "cell_type": "code",
   "execution_count": 43,
   "metadata": {},
   "outputs": [
    {
     "data": {
      "text/html": [
       "<div>\n",
       "<style scoped>\n",
       "    .dataframe tbody tr th:only-of-type {\n",
       "        vertical-align: middle;\n",
       "    }\n",
       "\n",
       "    .dataframe tbody tr th {\n",
       "        vertical-align: top;\n",
       "    }\n",
       "\n",
       "    .dataframe thead th {\n",
       "        text-align: right;\n",
       "    }\n",
       "</style>\n",
       "<table border=\"1\" class=\"dataframe\">\n",
       "  <thead>\n",
       "    <tr style=\"text-align: right;\">\n",
       "      <th></th>\n",
       "      <th>fit_time</th>\n",
       "      <th>score_time</th>\n",
       "      <th>test_score</th>\n",
       "      <th>train_score</th>\n",
       "    </tr>\n",
       "  </thead>\n",
       "  <tbody>\n",
       "    <tr>\n",
       "      <th>0</th>\n",
       "      <td>0.002852</td>\n",
       "      <td>0.000419</td>\n",
       "      <td>0.777917</td>\n",
       "      <td>0.777824</td>\n",
       "    </tr>\n",
       "    <tr>\n",
       "      <th>1</th>\n",
       "      <td>0.004113</td>\n",
       "      <td>0.000612</td>\n",
       "      <td>0.777917</td>\n",
       "      <td>0.777824</td>\n",
       "    </tr>\n",
       "    <tr>\n",
       "      <th>2</th>\n",
       "      <td>0.004891</td>\n",
       "      <td>0.000869</td>\n",
       "      <td>0.777917</td>\n",
       "      <td>0.777824</td>\n",
       "    </tr>\n",
       "    <tr>\n",
       "      <th>3</th>\n",
       "      <td>0.005005</td>\n",
       "      <td>0.000933</td>\n",
       "      <td>0.777917</td>\n",
       "      <td>0.777824</td>\n",
       "    </tr>\n",
       "    <tr>\n",
       "      <th>4</th>\n",
       "      <td>0.003315</td>\n",
       "      <td>0.001018</td>\n",
       "      <td>0.777917</td>\n",
       "      <td>0.777824</td>\n",
       "    </tr>\n",
       "    <tr>\n",
       "      <th>5</th>\n",
       "      <td>0.003510</td>\n",
       "      <td>0.000500</td>\n",
       "      <td>0.777917</td>\n",
       "      <td>0.777824</td>\n",
       "    </tr>\n",
       "    <tr>\n",
       "      <th>6</th>\n",
       "      <td>0.003309</td>\n",
       "      <td>0.000499</td>\n",
       "      <td>0.777917</td>\n",
       "      <td>0.777824</td>\n",
       "    </tr>\n",
       "    <tr>\n",
       "      <th>7</th>\n",
       "      <td>0.002983</td>\n",
       "      <td>0.000501</td>\n",
       "      <td>0.777917</td>\n",
       "      <td>0.777824</td>\n",
       "    </tr>\n",
       "    <tr>\n",
       "      <th>8</th>\n",
       "      <td>0.002920</td>\n",
       "      <td>0.000472</td>\n",
       "      <td>0.777500</td>\n",
       "      <td>0.777870</td>\n",
       "    </tr>\n",
       "    <tr>\n",
       "      <th>9</th>\n",
       "      <td>0.004509</td>\n",
       "      <td>0.000876</td>\n",
       "      <td>0.777500</td>\n",
       "      <td>0.777870</td>\n",
       "    </tr>\n",
       "  </tbody>\n",
       "</table>\n",
       "</div>"
      ],
      "text/plain": [
       "   fit_time  score_time  test_score  train_score\n",
       "0  0.002852    0.000419    0.777917     0.777824\n",
       "1  0.004113    0.000612    0.777917     0.777824\n",
       "2  0.004891    0.000869    0.777917     0.777824\n",
       "3  0.005005    0.000933    0.777917     0.777824\n",
       "4  0.003315    0.001018    0.777917     0.777824\n",
       "5  0.003510    0.000500    0.777917     0.777824\n",
       "6  0.003309    0.000499    0.777917     0.777824\n",
       "7  0.002983    0.000501    0.777917     0.777824\n",
       "8  0.002920    0.000472    0.777500     0.777870\n",
       "9  0.004509    0.000876    0.777500     0.777870"
      ]
     },
     "execution_count": 43,
     "metadata": {},
     "output_type": "execute_result"
    }
   ],
   "source": [
    "dummy = DummyClassifier()\n",
    "dummy_scores = cross_validate(dummy, X_train, y_train, cv=10, return_train_score=True)\n",
    "pd.DataFrame(dummy_scores)"
   ]
  },
  {
   "cell_type": "code",
   "execution_count": 44,
   "metadata": {},
   "outputs": [
    {
     "name": "stdout",
     "output_type": "stream",
     "text": [
      "Mean train accuracy = 0.7778333333333333\n",
      "Mean validation accuracy = 0.7778333333333334\n"
     ]
    }
   ],
   "source": [
    "print(\"Mean train accuracy =\", dummy_scores[\"train_score\"].mean())\n",
    "print(\"Mean validation accuracy =\", dummy_scores[\"test_score\"].mean())"
   ]
  },
  {
   "cell_type": "markdown",
   "metadata": {},
   "source": [
    "The train/validation accuracies of the baseline model is high, but because default cases are rare and there are many more examples of non-default cases, accuracy is not an informative metric."
   ]
  },
  {
   "cell_type": "markdown",
   "metadata": {},
   "source": [
    "<br><br>"
   ]
  },
  {
   "cell_type": "markdown",
   "metadata": {},
   "source": [
    "## 7. Linear models <a name=\"7\"></a>\n",
    "<hr>\n",
    "rubric={points:12}\n",
    "\n",
    "**Your tasks:**\n",
    "\n",
    "1. Try logistic regression as a first real attempt. \n",
    "2. Carry out hyperparameter tuning to explore different values for the complexity hyperparameter `C`. \n",
    "3. Report validation scores along with standard deviation. \n",
    "4. Summarize your results."
   ]
  },
  {
   "cell_type": "markdown",
   "metadata": {},
   "source": [
    "### 7.1 Try logistic regression as a first real attempt."
   ]
  },
  {
   "cell_type": "code",
   "execution_count": 45,
   "metadata": {},
   "outputs": [],
   "source": [
    "# directly pasted from HW3's provided code\n",
    "def mean_std_cross_val_scores(model, X_train, y_train, **kwargs):\n",
    "    \"\"\"\n",
    "    Returns mean and std of cross validation\n",
    "\n",
    "    Parameters\n",
    "    ----------\n",
    "    model :\n",
    "        scikit-learn model\n",
    "    X_train : numpy array or pandas DataFrame\n",
    "        X in the training data\n",
    "    y_train :\n",
    "        y in the training data\n",
    "\n",
    "    Returns\n",
    "    ----------\n",
    "        pandas Series with mean scores from cross_validation\n",
    "    \"\"\"\n",
    "\n",
    "    scores = cross_validate(model, X_train, y_train, **kwargs)\n",
    "\n",
    "    mean_scores = pd.DataFrame(scores).mean()\n",
    "    std_scores = pd.DataFrame(scores).std()\n",
    "    out_col = []\n",
    "\n",
    "    for i in range(len(mean_scores)):\n",
    "        out_col.append((f\"%0.6f (+/- %0.6f)\" % (mean_scores[i], std_scores[i])))\n",
    "\n",
    "    return pd.Series(data=out_col, index=mean_scores.index)\n",
    "\n",
    "def get_mean(text, delimiter):\n",
    "    return float(text.split(delimiter, 1)[0])"
   ]
  },
  {
   "cell_type": "code",
   "execution_count": 46,
   "metadata": {
    "tags": []
   },
   "outputs": [
    {
     "data": {
      "text/html": [
       "<div>\n",
       "<style scoped>\n",
       "    .dataframe tbody tr th:only-of-type {\n",
       "        vertical-align: middle;\n",
       "    }\n",
       "\n",
       "    .dataframe tbody tr th {\n",
       "        vertical-align: top;\n",
       "    }\n",
       "\n",
       "    .dataframe thead th {\n",
       "        text-align: right;\n",
       "    }\n",
       "</style>\n",
       "<table border=\"1\" class=\"dataframe\">\n",
       "  <thead>\n",
       "    <tr style=\"text-align: right;\">\n",
       "      <th></th>\n",
       "      <th>fit_time</th>\n",
       "      <th>score_time</th>\n",
       "      <th>test_accuracy</th>\n",
       "      <th>train_accuracy</th>\n",
       "      <th>test_f1</th>\n",
       "      <th>train_f1</th>\n",
       "      <th>test_recall</th>\n",
       "      <th>train_recall</th>\n",
       "      <th>test_precision</th>\n",
       "      <th>train_precision</th>\n",
       "    </tr>\n",
       "  </thead>\n",
       "  <tbody>\n",
       "    <tr>\n",
       "      <th>0</th>\n",
       "      <td>0.807464 (+/- 0.047429)</td>\n",
       "      <td>0.014016 (+/- 0.003823)</td>\n",
       "      <td>0.820083 (+/- 0.005457)</td>\n",
       "      <td>0.821653 (+/- 0.000613)</td>\n",
       "      <td>0.466374 (+/- 0.018640)</td>\n",
       "      <td>0.471249 (+/- 0.002402)</td>\n",
       "      <td>0.354089 (+/- 0.017980)</td>\n",
       "      <td>0.357735 (+/- 0.002356)</td>\n",
       "      <td>0.683955 (+/- 0.024612)</td>\n",
       "      <td>0.690297 (+/- 0.002378)</td>\n",
       "    </tr>\n",
       "  </tbody>\n",
       "</table>\n",
       "</div>"
      ],
      "text/plain": [
       "                  fit_time               score_time            test_accuracy  \\\n",
       "0  0.807464 (+/- 0.047429)  0.014016 (+/- 0.003823)  0.820083 (+/- 0.005457)   \n",
       "\n",
       "            train_accuracy                  test_f1                 train_f1  \\\n",
       "0  0.821653 (+/- 0.000613)  0.466374 (+/- 0.018640)  0.471249 (+/- 0.002402)   \n",
       "\n",
       "               test_recall             train_recall           test_precision  \\\n",
       "0  0.354089 (+/- 0.017980)  0.357735 (+/- 0.002356)  0.683955 (+/- 0.024612)   \n",
       "\n",
       "           train_precision  \n",
       "0  0.690297 (+/- 0.002378)  "
      ]
     },
     "execution_count": 46,
     "metadata": {},
     "output_type": "execute_result"
    }
   ],
   "source": [
    "lr_pipe = make_pipeline(preprocessor, LogisticRegression(max_iter=2000))\n",
    "lr_results = mean_std_cross_val_scores(\n",
    "    lr_pipe, X_train, y_train, cv=10, return_train_score=True, scoring=scoring, \n",
    ")\n",
    "pd.DataFrame(lr_results).T"
   ]
  },
  {
   "cell_type": "markdown",
   "metadata": {},
   "source": [
    "### 7.2 Carry out hyperparameter tuning to explore different values for the complexity hyperparameter `C` & 7.3 Report validation scores along with standard deviation"
   ]
  },
  {
   "cell_type": "markdown",
   "metadata": {},
   "source": [
    "Note that we initially tried a `C` range of [0.0001, 10000] (`10.0 ** np.arange(-4, 6, 1)`). This was inspired by the range we used in lecture 7 during the hyperparameter tuning of `C`; however, the runtime of this range of particularly slow, and we found that \n",
    "- `C=0.0001` resulted in a precision, recall, and f1 scores of 0.0\n",
    "- For `C<0.01` and `C>1000`, the f1 scores didn't seem to improve. \n",
    "\n",
    "**Therefore, to reduce runtime, we have chosen to tune C with a smaller range of [0.1, 1000] (`10.0 ** np.arange(-1, 4, 1)`).**\n",
    "The `C` with the best performance stayed consistent after we reduced the range."
   ]
  },
  {
   "cell_type": "code",
   "execution_count": 66,
   "metadata": {},
   "outputs": [
    {
     "data": {
      "text/html": [
       "<div>\n",
       "<style scoped>\n",
       "    .dataframe tbody tr th:only-of-type {\n",
       "        vertical-align: middle;\n",
       "    }\n",
       "\n",
       "    .dataframe tbody tr th {\n",
       "        vertical-align: top;\n",
       "    }\n",
       "\n",
       "    .dataframe thead th {\n",
       "        text-align: right;\n",
       "    }\n",
       "</style>\n",
       "<table border=\"1\" class=\"dataframe\">\n",
       "  <thead>\n",
       "    <tr style=\"text-align: right;\">\n",
       "      <th></th>\n",
       "      <th>fit_time</th>\n",
       "      <th>score_time</th>\n",
       "      <th>test_accuracy</th>\n",
       "      <th>train_accuracy</th>\n",
       "      <th>test_f1</th>\n",
       "      <th>train_f1</th>\n",
       "      <th>test_recall</th>\n",
       "      <th>train_recall</th>\n",
       "      <th>test_precision</th>\n",
       "      <th>train_precision</th>\n",
       "    </tr>\n",
       "  </thead>\n",
       "  <tbody>\n",
       "    <tr>\n",
       "      <th>0.1</th>\n",
       "      <td>0.414843 (+/- 0.051817)</td>\n",
       "      <td>0.014696 (+/- 0.001855)</td>\n",
       "      <td>0.820042 (+/- 0.004924)</td>\n",
       "      <td>0.820889 (+/- 0.000602)</td>\n",
       "      <td>0.465635 (+/- 0.017848)</td>\n",
       "      <td>0.468959 (+/- 0.002986)</td>\n",
       "      <td>0.353152 (+/- 0.017887)</td>\n",
       "      <td>0.355985 (+/- 0.003156)</td>\n",
       "      <td>0.684354 (+/- 0.022037)</td>\n",
       "      <td>0.687000 (+/- 0.001878)</td>\n",
       "    </tr>\n",
       "    <tr>\n",
       "      <th>1.0</th>\n",
       "      <td>0.850398 (+/- 0.067259)</td>\n",
       "      <td>0.013829 (+/- 0.001040)</td>\n",
       "      <td>0.820083 (+/- 0.005457)</td>\n",
       "      <td>0.821653 (+/- 0.000613)</td>\n",
       "      <td>0.466374 (+/- 0.018640)</td>\n",
       "      <td>0.471249 (+/- 0.002402)</td>\n",
       "      <td>0.354089 (+/- 0.017980)</td>\n",
       "      <td>0.357735 (+/- 0.002356)</td>\n",
       "      <td>0.683955 (+/- 0.024612)</td>\n",
       "      <td>0.690297 (+/- 0.002378)</td>\n",
       "    </tr>\n",
       "    <tr>\n",
       "      <th>10.0</th>\n",
       "      <td>1.563020 (+/- 0.237691)</td>\n",
       "      <td>0.013821 (+/- 0.001822)</td>\n",
       "      <td>0.820333 (+/- 0.005457)</td>\n",
       "      <td>0.822046 (+/- 0.000617)</td>\n",
       "      <td>0.467088 (+/- 0.019232)</td>\n",
       "      <td>0.472481 (+/- 0.002407)</td>\n",
       "      <td>0.354652 (+/- 0.018890)</td>\n",
       "      <td>0.358715 (+/- 0.002343)</td>\n",
       "      <td>0.685039 (+/- 0.024393)</td>\n",
       "      <td>0.691936 (+/- 0.002413)</td>\n",
       "    </tr>\n",
       "    <tr>\n",
       "      <th>100.0</th>\n",
       "      <td>2.595462 (+/- 0.302564)</td>\n",
       "      <td>0.014238 (+/- 0.002923)</td>\n",
       "      <td>0.820333 (+/- 0.005503)</td>\n",
       "      <td>0.822074 (+/- 0.000558)</td>\n",
       "      <td>0.466965 (+/- 0.019181)</td>\n",
       "      <td>0.472360 (+/- 0.002376)</td>\n",
       "      <td>0.354465 (+/- 0.018671)</td>\n",
       "      <td>0.358485 (+/- 0.002397)</td>\n",
       "      <td>0.685166 (+/- 0.024610)</td>\n",
       "      <td>0.692272 (+/- 0.002028)</td>\n",
       "    </tr>\n",
       "    <tr>\n",
       "      <th>1000.0</th>\n",
       "      <td>3.258042 (+/- 0.260430)</td>\n",
       "      <td>0.013198 (+/- 0.001530)</td>\n",
       "      <td>0.820292 (+/- 0.005556)</td>\n",
       "      <td>0.822079 (+/- 0.000566)</td>\n",
       "      <td>0.466776 (+/- 0.019323)</td>\n",
       "      <td>0.472395 (+/- 0.002424)</td>\n",
       "      <td>0.354277 (+/- 0.018742)</td>\n",
       "      <td>0.358527 (+/- 0.002449)</td>\n",
       "      <td>0.685044 (+/- 0.024792)</td>\n",
       "      <td>0.692269 (+/- 0.002039)</td>\n",
       "    </tr>\n",
       "  </tbody>\n",
       "</table>\n",
       "</div>"
      ],
      "text/plain": [
       "                       fit_time               score_time  \\\n",
       "0.1     0.414843 (+/- 0.051817)  0.014696 (+/- 0.001855)   \n",
       "1.0     0.850398 (+/- 0.067259)  0.013829 (+/- 0.001040)   \n",
       "10.0    1.563020 (+/- 0.237691)  0.013821 (+/- 0.001822)   \n",
       "100.0   2.595462 (+/- 0.302564)  0.014238 (+/- 0.002923)   \n",
       "1000.0  3.258042 (+/- 0.260430)  0.013198 (+/- 0.001530)   \n",
       "\n",
       "                  test_accuracy           train_accuracy  \\\n",
       "0.1     0.820042 (+/- 0.004924)  0.820889 (+/- 0.000602)   \n",
       "1.0     0.820083 (+/- 0.005457)  0.821653 (+/- 0.000613)   \n",
       "10.0    0.820333 (+/- 0.005457)  0.822046 (+/- 0.000617)   \n",
       "100.0   0.820333 (+/- 0.005503)  0.822074 (+/- 0.000558)   \n",
       "1000.0  0.820292 (+/- 0.005556)  0.822079 (+/- 0.000566)   \n",
       "\n",
       "                        test_f1                 train_f1  \\\n",
       "0.1     0.465635 (+/- 0.017848)  0.468959 (+/- 0.002986)   \n",
       "1.0     0.466374 (+/- 0.018640)  0.471249 (+/- 0.002402)   \n",
       "10.0    0.467088 (+/- 0.019232)  0.472481 (+/- 0.002407)   \n",
       "100.0   0.466965 (+/- 0.019181)  0.472360 (+/- 0.002376)   \n",
       "1000.0  0.466776 (+/- 0.019323)  0.472395 (+/- 0.002424)   \n",
       "\n",
       "                    test_recall             train_recall  \\\n",
       "0.1     0.353152 (+/- 0.017887)  0.355985 (+/- 0.003156)   \n",
       "1.0     0.354089 (+/- 0.017980)  0.357735 (+/- 0.002356)   \n",
       "10.0    0.354652 (+/- 0.018890)  0.358715 (+/- 0.002343)   \n",
       "100.0   0.354465 (+/- 0.018671)  0.358485 (+/- 0.002397)   \n",
       "1000.0  0.354277 (+/- 0.018742)  0.358527 (+/- 0.002449)   \n",
       "\n",
       "                 test_precision          train_precision  \n",
       "0.1     0.684354 (+/- 0.022037)  0.687000 (+/- 0.001878)  \n",
       "1.0     0.683955 (+/- 0.024612)  0.690297 (+/- 0.002378)  \n",
       "10.0    0.685039 (+/- 0.024393)  0.691936 (+/- 0.002413)  \n",
       "100.0   0.685166 (+/- 0.024610)  0.692272 (+/- 0.002028)  \n",
       "1000.0  0.685044 (+/- 0.024792)  0.692269 (+/- 0.002039)  "
      ]
     },
     "execution_count": 66,
     "metadata": {},
     "output_type": "execute_result"
    }
   ],
   "source": [
    "C_values = 10.0 ** np.arange(-1, 4, 1)\n",
    "lr_C_results = {}\n",
    "highest_test_f1 = -1\n",
    "best_C = -1\n",
    "for c in C_values:\n",
    "#     print(\"Cross validating on\", c)\n",
    "    lr_C_pipe = make_pipeline(preprocessor, LogisticRegression(C=c, max_iter=2000))\n",
    "    lr_C_results[c] = mean_std_cross_val_scores(\n",
    "        lr_C_pipe, X_train, y_train, cv=10, return_train_score=True, scoring=scoring, \n",
    "    )\n",
    "    mean = get_mean(lr_C_results[c][\"test_f1\"], \" \")\n",
    "    if mean > highest_test_f1:\n",
    "        best_C = c\n",
    "        highest_test_f1 = mean\n",
    "pd.DataFrame(lr_C_results).T"
   ]
  },
  {
   "cell_type": "code",
   "execution_count": 65,
   "metadata": {},
   "outputs": [
    {
     "name": "stdout",
     "output_type": "stream",
     "text": [
      "The best hyperparameter C is 10.0 with a mean test_f1 value of 0.467088\n",
      "The difference between the f1-scores when C=10.0 and the logistic regression model in 7.1 with default C=1.0 test_f1=0.466374 is 0.000714\n"
     ]
    }
   ],
   "source": [
    "print(f'The best hyperparameter C is {best_C} with a mean test_f1 value of %f' % highest_test_f1)\n",
    "print(f'The difference between the f1-scores when C={best_C} and the logistic regression model in 7.1 with default C=1.0 test_f1={get_mean(lr_results[\"test_f1\"], \" \")} is %f' % (highest_test_f1 - get_mean(lr_results[\"test_f1\"], \" \")))"
   ]
  },
  {
   "cell_type": "markdown",
   "metadata": {},
   "source": [
    "### 7.4 Summarize your results"
   ]
  },
  {
   "cell_type": "markdown",
   "metadata": {},
   "source": [
    "Based on the train and validation scores, the complexity parameter `C` with the best performance is 10.\n",
    "- Compared to the model with default complexity `C=1` in part 7.1, `C=10` resulted in a marginally higher validation f1 score.\n",
    "- However, we are not satisfied with the model with `C=10` because its f1 score is still quite low."
   ]
  },
  {
   "cell_type": "markdown",
   "metadata": {},
   "source": [
    "<br><br>"
   ]
  },
  {
   "cell_type": "markdown",
   "metadata": {},
   "source": [
    "## 8. Different classifiers <a name=\"8\"></a>\n",
    "<hr>\n",
    "rubric={points:15}\n",
    "\n",
    "**Your tasks:**\n",
    "1. Try at least 3 other models aside from logistic regression. At least one of these models should be a tree-based ensemble model (e.g., lgbm, random forest, xgboost). \n",
    "2. Summarize your results. Can you beat logistic regression? "
   ]
  },
  {
   "cell_type": "code",
   "execution_count": 49,
   "metadata": {},
   "outputs": [],
   "source": [
    "# import additional models\n",
    "from catboost import CatBoostClassifier\n",
    "from lightgbm.sklearn import LGBMClassifier\n",
    "from sklearn.tree import DecisionTreeClassifier\n",
    "from xgboost import XGBClassifier"
   ]
  },
  {
   "cell_type": "code",
   "execution_count": 111,
   "metadata": {},
   "outputs": [
    {
     "name": "stdout",
     "output_type": "stream",
     "text": [
      "Cross validating on decision_tree\n",
      "Cross validating on random_forest\n",
      "Cross validating on LightGBM\n"
     ]
    },
    {
     "data": {
      "text/html": [
       "<div>\n",
       "<style scoped>\n",
       "    .dataframe tbody tr th:only-of-type {\n",
       "        vertical-align: middle;\n",
       "    }\n",
       "\n",
       "    .dataframe tbody tr th {\n",
       "        vertical-align: top;\n",
       "    }\n",
       "\n",
       "    .dataframe thead th {\n",
       "        text-align: right;\n",
       "    }\n",
       "</style>\n",
       "<table border=\"1\" class=\"dataframe\">\n",
       "  <thead>\n",
       "    <tr style=\"text-align: right;\">\n",
       "      <th></th>\n",
       "      <th>fit_time</th>\n",
       "      <th>score_time</th>\n",
       "      <th>test_accuracy</th>\n",
       "      <th>train_accuracy</th>\n",
       "      <th>test_f1</th>\n",
       "      <th>train_f1</th>\n",
       "      <th>test_recall</th>\n",
       "      <th>train_recall</th>\n",
       "      <th>test_precision</th>\n",
       "      <th>train_precision</th>\n",
       "    </tr>\n",
       "  </thead>\n",
       "  <tbody>\n",
       "    <tr>\n",
       "      <th>decision_tree</th>\n",
       "      <td>0.526248 (+/- 0.026633)</td>\n",
       "      <td>0.018989 (+/- 0.000700)</td>\n",
       "      <td>0.727333 (+/- 0.005234)</td>\n",
       "      <td>0.999010 (+/- 0.000184)</td>\n",
       "      <td>0.404174 (+/- 0.011638)</td>\n",
       "      <td>0.997768 (+/- 0.000416)</td>\n",
       "      <td>0.416351 (+/- 0.014984)</td>\n",
       "      <td>0.995686 (+/- 0.000917)</td>\n",
       "      <td>0.392799 (+/- 0.010474)</td>\n",
       "      <td>0.999859 (+/- 0.000129)</td>\n",
       "    </tr>\n",
       "    <tr>\n",
       "      <th>random_forest</th>\n",
       "      <td>1.036007 (+/- 0.251081)</td>\n",
       "      <td>0.061041 (+/- 0.007328)</td>\n",
       "      <td>0.817458 (+/- 0.005902)</td>\n",
       "      <td>0.851958 (+/- 0.001798)</td>\n",
       "      <td>0.450760 (+/- 0.024900)</td>\n",
       "      <td>0.558294 (+/- 0.005548)</td>\n",
       "      <td>0.337580 (+/- 0.024235)</td>\n",
       "      <td>0.421136 (+/- 0.005726)</td>\n",
       "      <td>0.679354 (+/- 0.022479)</td>\n",
       "      <td>0.828116 (+/- 0.011326)</td>\n",
       "    </tr>\n",
       "    <tr>\n",
       "      <th>LightGBM</th>\n",
       "      <td>0.298830 (+/- 0.035720)</td>\n",
       "      <td>0.028605 (+/- 0.003047)</td>\n",
       "      <td>0.819292 (+/- 0.007334)</td>\n",
       "      <td>0.849437 (+/- 0.001896)</td>\n",
       "      <td>0.477440 (+/- 0.022603)</td>\n",
       "      <td>0.566434 (+/- 0.005019)</td>\n",
       "      <td>0.371713 (+/- 0.020004)</td>\n",
       "      <td>0.442704 (+/- 0.005681)</td>\n",
       "      <td>0.667780 (+/- 0.030302)</td>\n",
       "      <td>0.786342 (+/- 0.011681)</td>\n",
       "    </tr>\n",
       "  </tbody>\n",
       "</table>\n",
       "</div>"
      ],
      "text/plain": [
       "                              fit_time               score_time  \\\n",
       "decision_tree  0.526248 (+/- 0.026633)  0.018989 (+/- 0.000700)   \n",
       "random_forest  1.036007 (+/- 0.251081)  0.061041 (+/- 0.007328)   \n",
       "LightGBM       0.298830 (+/- 0.035720)  0.028605 (+/- 0.003047)   \n",
       "\n",
       "                         test_accuracy           train_accuracy  \\\n",
       "decision_tree  0.727333 (+/- 0.005234)  0.999010 (+/- 0.000184)   \n",
       "random_forest  0.817458 (+/- 0.005902)  0.851958 (+/- 0.001798)   \n",
       "LightGBM       0.819292 (+/- 0.007334)  0.849437 (+/- 0.001896)   \n",
       "\n",
       "                               test_f1                 train_f1  \\\n",
       "decision_tree  0.404174 (+/- 0.011638)  0.997768 (+/- 0.000416)   \n",
       "random_forest  0.450760 (+/- 0.024900)  0.558294 (+/- 0.005548)   \n",
       "LightGBM       0.477440 (+/- 0.022603)  0.566434 (+/- 0.005019)   \n",
       "\n",
       "                           test_recall             train_recall  \\\n",
       "decision_tree  0.416351 (+/- 0.014984)  0.995686 (+/- 0.000917)   \n",
       "random_forest  0.337580 (+/- 0.024235)  0.421136 (+/- 0.005726)   \n",
       "LightGBM       0.371713 (+/- 0.020004)  0.442704 (+/- 0.005681)   \n",
       "\n",
       "                        test_precision          train_precision  \n",
       "decision_tree  0.392799 (+/- 0.010474)  0.999859 (+/- 0.000129)  \n",
       "random_forest  0.679354 (+/- 0.022479)  0.828116 (+/- 0.011326)  \n",
       "LightGBM       0.667780 (+/- 0.030302)  0.786342 (+/- 0.011681)  "
      ]
     },
     "execution_count": 111,
     "metadata": {},
     "output_type": "execute_result"
    }
   ],
   "source": [
    "# code is inspired from Lecture 11 code\n",
    "\n",
    "# create model pipelines\n",
    "pipe_dt = make_pipeline(preprocessor, DecisionTreeClassifier(random_state=123))\n",
    "pipe_rf = make_pipeline(\n",
    "    preprocessor,\n",
    "    RandomForestClassifier(random_state=123, n_jobs=-1, max_depth=10)\n",
    ")\n",
    "pipe_lgbm = make_pipeline(preprocessor, LGBMClassifier(random_state=123, verbosity=-1))\n",
    "\n",
    "# create dict mapping model name to the corresponding pipeline\n",
    "classifiers = {\n",
    "    \"decision_tree\": pipe_dt,\n",
    "    \"random_forest\": pipe_rf,\n",
    "    \"LightGBM\": pipe_lgbm,\n",
    "}\n",
    "\n",
    "# run cross-validation on all models\n",
    "results = {}\n",
    "for (name, pipeline) in classifiers.items():\n",
    "    print(\"Cross validating on\", name)\n",
    "    results[name] = mean_std_cross_val_scores(\n",
    "#         pipeline, X_train, y_train, return_train_score=True, scoring=\"recall\"\n",
    "        pipeline, X_train, y_train, return_train_score=True, scoring=scoring\n",
    "    )\n",
    "pd.DataFrame(results).T"
   ]
  },
  {
   "cell_type": "markdown",
   "metadata": {},
   "source": [
    "TODO: summarize results and compare to LR\n",
    "\n",
    "seems like all 3 models perform better than LR"
   ]
  },
  {
   "cell_type": "markdown",
   "metadata": {},
   "source": [
    "<br><br>"
   ]
  },
  {
   "cell_type": "markdown",
   "metadata": {},
   "source": [
    "## (Optional) 9. Feature selection <a name=\"9\"></a>\n",
    "<hr>\n",
    "rubric={points:1}\n",
    "\n",
    "**Your tasks:**\n",
    "\n",
    "Make some attempts to select relevant features. You may try `RFECV` or forward selection. Do the results improve with feature selection? Summarize your results. If you see improvements in the results, keep feature selection in your pipeline. If not, you may abandon it in the next exercises. "
   ]
  },
  {
   "cell_type": "markdown",
   "metadata": {},
   "source": []
  },
  {
   "cell_type": "markdown",
   "metadata": {},
   "source": [
    "<br><br>"
   ]
  },
  {
   "cell_type": "markdown",
   "metadata": {},
   "source": [
    "## 10. Hyperparameter optimization <a name=\"10\"></a>\n",
    "<hr>\n",
    "rubric={points:15}\n",
    "\n",
    "**Your tasks:**\n",
    "\n",
    "Make some attempts to optimize hyperparameters for the models you've tried and summarize your results. You may pick one of the best performing models from the previous exercise and tune hyperparameters only for that model. You may use `sklearn`'s methods for hyperparameter optimization or fancier Bayesian optimization methods. \n",
    "  - [GridSearchCV](http://scikit-learn.org/stable/modules/generated/sklearn.model_selection.GridSearchCV.html)   \n",
    "  - [RandomizedSearchCV](http://scikit-learn.org/stable/modules/generated/sklearn.model_selection.RandomizedSearchCV.html)\n",
    "  - [scikit-optimize](https://github.com/scikit-optimize/scikit-optimize)"
   ]
  },
  {
   "cell_type": "markdown",
   "metadata": {},
   "source": [
    "The best performing model is LightGBM. We will carry out hyperparameter optimization of the following hyperparameters:\n",
    "- `max_depth` - controls the overall depth of the tree\n",
    "   - Having more levels could lead to a more complex model that is prone to overfitting.\n",
    "   - We have chosen the range of values to be [3, 13] with increments of 2. This is because...\n",
    "- `num_leaves` - controls the number of decision leaves in a single tree\n",
    "   - `num_leaves` depends on the `max_depth`. Acording to the LGBM documentation, `num_leaves` should theoretically be `2^(max_depth)`, however, sticking to this max value could lead to overfitting.\n",
    "   - LGBM documentation suggests letting `num_leaves` to be smaller; for example, when `max_depth=7`, the max value of `num_leaves` would be `2^7=127`, but we should set it to `70` or `80`. \n",
    "   - Therefore, for the first two `max_depth=3` and `5`, we let `num_leaves` be `2^(max_depth)`, but for `max_depth>5`, we don't strictly stick to the formula `2^(max_depth)`, but instead use `num_leaves=10*max_depth`.\n",
    "- `min_data_in_leaf` - specifies the minimum number of of observations that fit the decision criteria in a leaf.\n",
    "   - The optimal value depends on the size of the dataset and `num_leaves`.\n",
    "   - For a large dataset, the LGBM documentation advises setting it to hundreds or thousands.\n",
    "\n",
    "\n",
    "Sources: \n",
    "- [LightGBM Docs | Parameters Tuning](https://lightgbm.readthedocs.io/en/latest/Parameters-Tuning.html)\n",
    "- [towards data science | LightGBM Hyperparameter Tuning](https://towardsdatascience.com/kagglers-guide-to-lightgbm-hyperparameter-tuning-with-optuna-in-2021-ed048d9838b5)"
   ]
  },
  {
   "cell_type": "code",
   "execution_count": null,
   "metadata": {},
   "outputs": [],
   "source": [
    "from sklearn.metrics import make_scorer, f1_score, precision_score, recall_score\n",
    "scorers = {\n",
    "    \"f1\": make_scorer(f1_score),\n",
    "    \"precision\": make_scorer(precision_score),\n",
    "    \"recall\": make_scorer(recall_score),    \n",
    "}\n",
    "param_grid = {\n",
    "    \"lgbmclassifier__max_depth\": [3, 5, 7, 9, 11, 13],\n",
    "    \"lgbmclassifier__num_leaves\": [8, 32, 70, 90, 130],\n",
    "    \"lgbmclassifier__min_data_in_leaf\": [100, 300, 500, 700, 900, 1100],\n",
    "}\n",
    "# Optimization code from lecture 8\n",
    "random_search = RandomizedSearchCV(\n",
    "    pipe_lgbm, param_distributions=param_grid, n_jobs=-1, n_iter=10, cv=10, scoring=scorers, random_state=123, refit=\"f1\", verbose=-1\n",
    ")\n",
    "random_search.fit(X_train, y_train)\n",
    "pd.DataFrame(random_search.cv_results_)[\n",
    "    [\n",
    "        \"mean_test_f1\",\n",
    "        \"mean_test_recall\",\n",
    "        \"mean_test_precision\",\n",
    "        \"param_lgbmclassifier__min_data_in_leaf\",\n",
    "        \"param_lgbmclassifier__max_depth\",\n",
    "        \"param_lgbmclassifier__num_leaves\",\n",
    "        \"mean_fit_time\",\n",
    "        \"rank_test_f1\",\n",
    "    ]\n",
    "].set_index(\"rank_test_f1\").sort_index().T"
   ]
  },
  {
   "cell_type": "code",
   "execution_count": 105,
   "metadata": {},
   "outputs": [
    {
     "name": "stdout",
     "output_type": "stream",
     "text": [
      "The best score from RandomizedSearchCV is 0.47894642069457116\n"
     ]
    }
   ],
   "source": [
    "print(f'The best score from RandomizedSearchCV is {random_search.best_score_}')"
   ]
  },
  {
   "cell_type": "code",
   "execution_count": null,
   "metadata": {
    "tags": []
   },
   "outputs": [],
   "source": [
    "grid_search = GridSearchCV(\n",
    "    pipe_lgbm, param_grid=param_grid, n_jobs=-1, cv=10, scoring=scorers, refit=\"f1\"\n",
    ")\n",
    "grid_search.fit(X_train, y_train)\n",
    "pd.DataFrame(grid_search.cv_results_)[\n",
    "    [\n",
    "        \"mean_test_f1\",\n",
    "        \"mean_test_recall\",\n",
    "        \"mean_test_precision\",\n",
    "        \"param_lgbmclassifier__min_data_in_leaf\",\n",
    "        \"param_lgbmclassifier__max_depth\",\n",
    "        \"param_lgbmclassifier__num_leaves\",\n",
    "        \"mean_fit_time\",\n",
    "        \"rank_test_f1\",\n",
    "    ]\n",
    "].set_index(\"rank_test_f1\").sort_index().T"
   ]
  },
  {
   "cell_type": "code",
   "execution_count": 107,
   "metadata": {},
   "outputs": [
    {
     "name": "stdout",
     "output_type": "stream",
     "text": [
      "The best score from RandomizedSearchCV is 0.48031841869944814\n"
     ]
    }
   ],
   "source": [
    "print(f'The best score from RandomizedSearchCV is {grid_search.best_score_}')"
   ]
  },
  {
   "cell_type": "markdown",
   "metadata": {},
   "source": [
    "Considerations/things we've tried\n",
    "- We tried using larger values of `max_depth`, `num_leaves`, `min_data_in_leaf` separately, but they all resulted in a lower max `mean_test_f1`\n",
    "- As recommended by LGBM docs, we also tried increasing `max_bin` from its default `255` to `260` and above, but it also resulted in a lower f1 score.\n",
    "- We also tried decreasing the number of folds to 5 in hopes of increasing the sample size of each fold. This also resulted in a lower f1 score.\n",
    "\n",
    "Summary\n",
    "- `GridSearchCV` yielded better results for the f1 score _and_ was faster, which was a bit surprising - we thought that `RandomizedSearchCV` would be faster, because in `RandomizedSearchCV`, adding parameters that do not influence performance does not affect efficiency\n",
    "- We will use the hyperparameter values produced by `GridSearchCV` since it yielded a slightly higher mean f1 score."
   ]
  },
  {
   "cell_type": "markdown",
   "metadata": {},
   "source": [
    "<br><br>"
   ]
  },
  {
   "cell_type": "markdown",
   "metadata": {},
   "source": [
    "## 11. Interpretation and feature importances <a name=\"1\"></a>\n",
    "<hr>\n",
    "rubric={points:15}\n",
    "\n",
    "**Your tasks:**\n",
    "\n",
    "1. Use the methods we saw in class (e.g., `eli5`, `shap`) (or any other methods of your choice) to explain feature importances of one of the best performing models. Summarize your observations. "
   ]
  },
  {
   "cell_type": "markdown",
   "metadata": {},
   "source": []
  },
  {
   "cell_type": "markdown",
   "metadata": {},
   "source": [
    "<br><br>"
   ]
  },
  {
   "cell_type": "markdown",
   "metadata": {},
   "source": [
    "## 12. Results on the test set <a name=\"12\"></a>\n",
    "<hr>\n",
    "\n",
    "rubric={points:5}\n",
    "\n",
    "**Your tasks:**\n",
    "\n",
    "1. Try your best performing model on the test data and report test scores. \n",
    "2. Do the test scores agree with the validation scores from before? To what extent do you trust your results? Do you think you've had issues with optimization bias? "
   ]
  },
  {
   "cell_type": "markdown",
   "metadata": {},
   "source": []
  },
  {
   "cell_type": "markdown",
   "metadata": {},
   "source": [
    "<br><br>"
   ]
  },
  {
   "cell_type": "markdown",
   "metadata": {},
   "source": [
    "## (Optional) 13. Explaining predictions \n",
    "rubric={points:1}\n",
    "\n",
    "**Your tasks**\n",
    "\n",
    "1. Take one or two test predictions and explain them with SHAP force plots.  "
   ]
  },
  {
   "cell_type": "markdown",
   "metadata": {},
   "source": []
  },
  {
   "cell_type": "markdown",
   "metadata": {},
   "source": [
    "<br><br>"
   ]
  },
  {
   "cell_type": "markdown",
   "metadata": {},
   "source": [
    "## 14. Summary of results <a name=\"13\"></a>\n",
    "<hr>\n",
    "rubric={points:10}\n",
    "\n",
    "**Your tasks:**\n",
    "\n",
    "1. Report your final test score along with the metric you used. \n",
    "2. Write concluding remarks.\n",
    "3. Discuss other ideas that you did not try but could potentially improve the performance/interpretability . "
   ]
  },
  {
   "cell_type": "markdown",
   "metadata": {},
   "source": []
  },
  {
   "cell_type": "markdown",
   "metadata": {},
   "source": [
    "### 14.3 Discuss other ideas that you did not try but could potentially improve the performance/interpretability ."
   ]
  },
  {
   "cell_type": "markdown",
   "metadata": {},
   "source": [
    "When it comes to hyperparameter optimization on our best-performing model, we could try fancier methods such as `scikit-optimise` to predict what hyperparameters will be good. Since there were several hyperparameters and many possible values to tune, this could potentially give us some parameters that lead to a better-performing model."
   ]
  },
  {
   "cell_type": "markdown",
   "metadata": {},
   "source": [
    "<br><br><br><br>"
   ]
  },
  {
   "cell_type": "markdown",
   "metadata": {},
   "source": [
    "## Submission instructions \n",
    "\n",
    "**PLEASE READ:** When you are ready to submit your assignment do the following:\n",
    "\n",
    "1. Run all cells in your notebook to make sure there are no errors by doing `Kernel -> Restart Kernel and Clear All Outputs` and then `Run -> Run All Cells`. \n",
    "2. Notebooks with cell execution numbers out of order or not starting from “1” will have marks deducted. Notebooks without the output displayed may not be graded at all (because we need to see the output in order to grade your work).\n",
    "3. Upload the assignment using Gradescope's drag and drop tool. Check out this [Gradescope Student Guide](https://lthub.ubc.ca/guides/gradescope-student-guide/) if you need help with Gradescope submission. "
   ]
  }
 ],
 "metadata": {
  "kernelspec": {
   "display_name": "Python 3 (ipykernel)",
   "language": "python",
   "name": "python3"
  },
  "language_info": {
   "codemirror_mode": {
    "name": "ipython",
    "version": 3
   },
   "file_extension": ".py",
   "mimetype": "text/x-python",
   "name": "python",
   "nbconvert_exporter": "python",
   "pygments_lexer": "ipython3",
   "version": "3.9.7"
  }
 },
 "nbformat": 4,
 "nbformat_minor": 4
}
